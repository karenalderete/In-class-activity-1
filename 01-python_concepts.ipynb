{
 "cells": [
  {
   "cell_type": "markdown",
   "id": "9383bafa",
   "metadata": {},
   "source": [
    "### Python Programming Concepts"
   ]
  },
  {
   "cell_type": "markdown",
   "id": "17df7d6e",
   "metadata": {},
   "source": [
    "#### 1. Create a variable to store the value 500 for sales"
   ]
  },
  {
   "cell_type": "code",
   "execution_count": 1,
   "id": "a5f43c2f",
   "metadata": {},
   "outputs": [
    {
     "data": {
      "text/plain": [
       "500"
      ]
     },
     "execution_count": 1,
     "metadata": {},
     "output_type": "execute_result"
    }
   ],
   "source": [
    "sales = 500\n",
    "sales"
   ]
  },
  {
   "cell_type": "code",
   "execution_count": null,
   "id": "44e5b131-47f6-466c-a404-00a2a1eae06a",
   "metadata": {},
   "outputs": [],
   "source": [
    "#### 2. Create a variable to store several values:  \n",
    "* sales: 500, 475, 625\n",
    "* integers 1 - 9"
   ]
  },
  {
   "cell_type": "code",
   "execution_count": 65,
   "id": "902fe3bd",
   "metadata": {},
   "outputs": [
    {
     "data": {
      "text/plain": [
       "[500, 475, 625]"
      ]
     },
     "execution_count": 65,
     "metadata": {},
     "output_type": "execute_result"
    }
   ],
   "source": [
    "sales = [500, 475, 625]\n",
    "sales"
   ]
  },
  {
   "cell_type": "code",
   "execution_count": 67,
   "id": "0cac80af-fbf4-4d62-8766-ed8c408c5334",
   "metadata": {},
   "outputs": [
    {
     "data": {
      "text/plain": [
       "[1, 2, 3, 4, 5, 6, 7, 8, 9]"
      ]
     },
     "execution_count": 67,
     "metadata": {},
     "output_type": "execute_result"
    }
   ],
   "source": [
    "integers = list(range(1, 10))\n",
    "integers"
   ]
  },
  {
   "cell_type": "code",
   "execution_count": null,
   "id": "e2b6cb02-13ae-48dc-b1c4-a7ca5ef61b86",
   "metadata": {},
   "outputs": [],
   "source": [
    "3. Create a variable to store the names and email addresses for a number of customers\n",
    "* John, john@some.com; Ann, ann@some.com"
   ]
  },
  {
   "cell_type": "code",
   "execution_count": 117,
   "id": "03f2b161",
   "metadata": {},
   "outputs": [
    {
     "data": {
      "text/plain": [
       "[{'Name': 'John', 'email': 'john@some.com'},\n",
       " {'Name': 'Ann', 'email': 'ann@some.com'}]"
      ]
     },
     "execution_count": 117,
     "metadata": {},
     "output_type": "execute_result"
    }
   ],
   "source": [
    "customers = [{'Name': 'John', 'email':'john@some.com'},{'Name':'Ann','email': 'ann@some.com'}]\n",
    "customers"
   ]
  },
  {
   "cell_type": "markdown",
   "id": "d6b1e8c6",
   "metadata": {},
   "source": [
    "#### 4. Use Python to generate a random value based on each of following:\n",
    "1. between 0 and 1\n",
    "2. the standard normal distribution (rounded to two decimal places)\n",
    "3. a value between 1 and 10\n",
    "4. either H or T"
   ]
  },
  {
   "cell_type": "code",
   "execution_count": 17,
   "id": "f004d7b5",
   "metadata": {},
   "outputs": [],
   "source": [
    "import random"
   ]
  },
  {
   "cell_type": "code",
   "execution_count": 19,
   "id": "a8efc6fc",
   "metadata": {},
   "outputs": [
    {
     "data": {
      "text/plain": [
       "0.06314634808987785"
      ]
     },
     "execution_count": 19,
     "metadata": {},
     "output_type": "execute_result"
    }
   ],
   "source": [
    "rand = random.random()\n",
    "rand"
   ]
  },
  {
   "cell_type": "code",
   "execution_count": 21,
   "id": "1a29e601",
   "metadata": {},
   "outputs": [
    {
     "data": {
      "text/plain": [
       "10"
      ]
     },
     "execution_count": 21,
     "metadata": {},
     "output_type": "execute_result"
    }
   ],
   "source": [
    "random.randint(1,10)"
   ]
  },
  {
   "cell_type": "code",
   "execution_count": 23,
   "id": "3a150c3e",
   "metadata": {},
   "outputs": [
    {
     "data": {
      "text/plain": [
       "0.28"
      ]
     },
     "execution_count": 23,
     "metadata": {},
     "output_type": "execute_result"
    }
   ],
   "source": [
    "round(random.normalvariate(),2)"
   ]
  },
  {
   "cell_type": "code",
   "execution_count": 25,
   "id": "f80f4b3b",
   "metadata": {},
   "outputs": [
    {
     "data": {
      "text/plain": [
       "'H'"
      ]
     },
     "execution_count": 25,
     "metadata": {},
     "output_type": "execute_result"
    }
   ],
   "source": [
    "random.choice(['H', 'T'])"
   ]
  },
  {
   "cell_type": "code",
   "execution_count": 31,
   "id": "bdb52b86",
   "metadata": {},
   "outputs": [
    {
     "data": {
      "text/plain": [
       "'HTTHTHTTTH'"
      ]
     },
     "execution_count": 31,
     "metadata": {},
     "output_type": "execute_result"
    }
   ],
   "source": [
    "flips = ''\n",
    "for flip in range(10):\n",
    "    flips+=random.choice('HT')\n",
    "flips"
   ]
  },
  {
   "cell_type": "markdown",
   "id": "7eddf06a",
   "metadata": {},
   "source": [
    "#### 5. Use Python to determine your current working directory"
   ]
  },
  {
   "cell_type": "code",
   "execution_count": 37,
   "id": "d8f79474",
   "metadata": {},
   "outputs": [
    {
     "name": "stdout",
     "output_type": "stream",
     "text": [
      "C:\\Users\\Karen Alderete\\OIM7502_SP25\n",
      "['.git', '.ipynb_checkpoints', '01-python_concepts.ipynb', '02-basic_numpy.ipynb', '02-pandas_intro.ipynb', '03-API.ipynb', '03-NLP.ipynb', '04-basic_matplotlib.ipynb', '05-linear_regression.ipynb', '05-logistic_regression.ipynb', '07-pandas_filtering_grouping.ipynb', '08-adv_matplotlib.ipynb', 'data', 'python_files', 'README.md']\n"
     ]
    }
   ],
   "source": [
    "import os\n",
    "print(os.getcwd())\n",
    "print(os.listdir())"
   ]
  },
  {
   "cell_type": "markdown",
   "id": "fc43ec50",
   "metadata": {},
   "source": [
    "#### 6. Use Python to determine how many days until New Year's Day"
   ]
  },
  {
   "cell_type": "code",
   "execution_count": 53,
   "id": "13f630fe",
   "metadata": {},
   "outputs": [
    {
     "name": "stdout",
     "output_type": "stream",
     "text": [
      "2026-01-01\n",
      "343 days, 0:00:00\n"
     ]
    }
   ],
   "source": [
    "import datetime as dt \n",
    "today=dt.date.today()\n",
    "nyd = dt.date(2026, 1, 1)\n",
    "print(nyd)\n",
    "print(nyd - today)"
   ]
  },
  {
   "cell_type": "markdown",
   "id": "2ba4ea92",
   "metadata": {},
   "source": [
    "#### 7. Write a short program that displays the future value of 1,000 earning 5%  at the end of each year for the next 5 years"
   ]
  },
  {
   "cell_type": "code",
   "execution_count": 59,
   "id": "6fef4a8c",
   "metadata": {},
   "outputs": [
    {
     "name": "stdout",
     "output_type": "stream",
     "text": [
      "Year\tFuture Value\n",
      "1\t$1050.00\n",
      "2\t$1102.50\n",
      "3\t$1157.63\n",
      "4\t$1215.51\n",
      "5\t$1276.28\n"
     ]
    }
   ],
   "source": [
    "# Initial investment\n",
    "initial_investment = 1000\n",
    "\n",
    "# Annual interest rate (5%)\n",
    "rate = 0.05\n",
    "\n",
    "# Calculate and print future value for the next 5 years\n",
    "print(\"Year\\tFuture Value\")\n",
    "for year in range(1, 6):  \n",
    "    future_value = initial_investment * (1 + rate) ** year  # Compound interest formula\n",
    "    print(f\"{year}\\t${future_value:.2f}\")"
   ]
  },
  {
   "cell_type": "markdown",
   "id": "150201c8",
   "metadata": {},
   "source": [
    "#### 8. Write a short program that prompts a user to enter a stock symbol and press enter. Add each symbol entered to a variable. The program should run until the user presses the enter key without entering anything (empty string) "
   ]
  },
  {
   "cell_type": "code",
   "execution_count": 57,
   "id": "931a346f",
   "metadata": {},
   "outputs": [
    {
     "name": "stdin",
     "output_type": "stream",
     "text": [
      "Enter a stock symbol (or press Enter to finish):  AAPL\n",
      "Enter a stock symbol (or press Enter to finish):  GOOG\n",
      "Enter a stock symbol (or press Enter to finish):  \n"
     ]
    },
    {
     "name": "stdout",
     "output_type": "stream",
     "text": [
      "Stock symbols entered: ['AAPL', 'GOOG']\n"
     ]
    }
   ],
   "source": [
    "# Empty list to store stock symbols\n",
    "stock_symbols = []\n",
    "\n",
    "# Enter stock symbols\n",
    "while True:\n",
    "    symbol = input(\"Enter a stock symbol (or press Enter to finish): \")\n",
    "    if symbol == \"\":  # Check if the input is an empty string\n",
    "        break  # Exit the loop if the user presses ENTER without typing anything!\n",
    "    stock_symbols.append(symbol)  # Add the symbol to the list\n",
    "\n",
    "print(\"Stock symbols entered:\", stock_symbols)"
   ]
  },
  {
   "cell_type": "markdown",
   "id": "fc2a7592",
   "metadata": {},
   "source": [
    "#### 9. Write the code necessary to calculate the sum of the square differences of a group of values : \n",
    "58, 32, 37, 41, 36, 36, 54, 37, 25, 53\n",
    "##### $\\Sigma $(${x}$ - $\\bar{x}$)$^2$"
   ]
  },
  {
   "cell_type": "code",
   "execution_count": 63,
   "id": "13d9a6c5",
   "metadata": {},
   "outputs": [
    {
     "name": "stdout",
     "output_type": "stream",
     "text": [
      "Sum of squared differences: 1020.9\n"
     ]
    }
   ],
   "source": [
    "values = [58, 32, 37, 41, 36, 36, 54, 37, 25, 53]\n",
    "\n",
    "# Calculate the mean\n",
    "mean = sum(values) / len(values)\n",
    "\n",
    "# Calculate squared differences and sum them\n",
    "sum_of_squared_differences = sum((x - mean) ** 2 for x in values)\n",
    "\n",
    "print(\"Sum of squared differences:\", sum_of_squared_differences)"
   ]
  },
  {
   "cell_type": "markdown",
   "id": "6d6f2e64",
   "metadata": {},
   "source": [
    "#### 10. Opening, reading and writing files"
   ]
  },
  {
   "cell_type": "code",
   "execution_count": 83,
   "id": "f7fa569d",
   "metadata": {},
   "outputs": [
    {
     "name": "stdout",
     "output_type": "stream",
     "text": [
      "Initial file content:\n",
      " Hello, this is Karen.\n",
      "I love Programming but I do not love Java.\n",
      "Updated file content:\n",
      " Hello, this is Karen.\n",
      "I love Programming but I do not love Java.\n",
      "I am very excited for taking this class.\n",
      "\n"
     ]
    }
   ],
   "source": [
    "with open(\"example.txt\", \"w\") as file:\n",
    "    file.write(\"Hello, this is Karen.\\nI love Programming but I do not love Java.\")\n",
    "    \n",
    "with open(\"example.txt\", \"r\") as file:\n",
    "    print(\"Initial file content:\\n\", file.read())\n",
    "\n",
    "with open(\"example.txt\", \"a\") as file:\n",
    "    file.write(\"\\nI am very excited for taking this class.\\n\")\n",
    "    \n",
    "with open(\"example.txt\", \"r\") as file:\n",
    "    print(\"Updated file content:\\n\", file.read())"
   ]
  },
  {
   "cell_type": "markdown",
   "id": "eec548d6",
   "metadata": {},
   "source": [
    "#### 11. Create a function the will simulate rolling two die and return the value of each and and the sum "
   ]
  },
  {
   "cell_type": "code",
   "execution_count": 85,
   "id": "bb115cdc",
   "metadata": {},
   "outputs": [
    {
     "name": "stdout",
     "output_type": "stream",
     "text": [
      "First Die: 3\n",
      "Second Die: 4\n",
      "Sum: 7\n"
     ]
    }
   ],
   "source": [
    "import random\n",
    "\n",
    "# Roll two dice\n",
    "def roll_dice():\n",
    "    dice1 = random.randint(1, 6)  # Roll first dice\n",
    "    dice2 = random.randint(1, 6)  # Roll second dice\n",
    "    return dice1, dice2, dice1 + dice2  # Return the dice values and their sum\n",
    "\n",
    "result = roll_dice()\n",
    "\n",
    "print(\"First Die:\", result[0])\n",
    "print(\"Second Die:\", result[1])\n",
    "print(\"Sum:\", result[2])"
   ]
  },
  {
   "cell_type": "markdown",
   "id": "21556d7f",
   "metadata": {},
   "source": [
    "#### 12. Write the code needed to evaluate whether a value in a group of values is negative or postive and prints an approriate message, i.e. postive, negative \n",
    "-1.59, 2.36, 1.69, 1.13, -0.91, 1.48, -0.34, 1.31, -0.74, 0.2"
   ]
  },
  {
   "cell_type": "code",
   "execution_count": 89,
   "id": "d6c38ecb",
   "metadata": {
    "scrolled": true
   },
   "outputs": [
    {
     "name": "stdout",
     "output_type": "stream",
     "text": [
      "-1.59 is negative\n",
      "2.36 is positive\n",
      "1.69 is positive\n",
      "1.13 is positive\n",
      "-0.91 is negative\n",
      "1.48 is positive\n",
      "-0.34 is negative\n",
      "1.31 is positive\n",
      "-0.74 is negative\n",
      "0.2 is positive\n"
     ]
    }
   ],
   "source": [
    "values = [-1.59, 2.36, 1.69, 1.13, -0.91, 1.48, -0.34, 1.31, -0.74, 0.2]\n",
    "\n",
    "# Loop through the list and check each value\n",
    "for value in values:\n",
    "    if value > 0:\n",
    "        print(value, \"is positive\")\n",
    "    elif value < 0:\n",
    "        print(value, \"is negative\")\n",
    "    else:\n",
    "        print(value, \"is zero\")"
   ]
  },
  {
   "cell_type": "code",
   "execution_count": null,
   "id": "ddfe8141-3b55-4dda-a387-44d2d7cb0d57",
   "metadata": {},
   "outputs": [],
   "source": [
    "#### 14.  Complete the following:\n",
    "1. Write a program that generates 500 random integers from 1 to n, for example, the first integer will be 1 the second will be 1 or 2, the fifth between 1 and 5, and so on.\n",
    "2. The program should write each integer to a file \n",
    "3. Once all integers are written close the file\n",
    "\n",
    "##### Part 2\n",
    "1. Open and read the file into a list\n",
    "2. Create a line plot of the data"
   ]
  },
  {
   "cell_type": "code",
   "execution_count": 111,
   "id": "60a910bb",
   "metadata": {},
   "outputs": [],
   "source": [
    "import random\n",
    "\n",
    "with open(\"random_integers.txt\", \"w\") as file:\n",
    "    # Generate 500 random integers from 1 to 500\n",
    "    for n in range(1, 501):  # Loop for 500 numbers\n",
    "        random_number = random.randint(1, n)  # Random number between 1 and n\n",
    "        # Write the random number to the file, each on a new line\n",
    "        file.write(str(random_number) + \"\\n\")"
   ]
  },
  {
   "cell_type": "code",
   "execution_count": 115,
   "id": "d6b4180c",
   "metadata": {},
   "outputs": [
    {
     "data": {
      "image/png": "[encoded data removed]",
      "text/plain": [
       "<Figure size 640x480 with 1 Axes>"
      ]
     },
     "metadata": {},
     "output_type": "display_data"
    }
   ],
   "source": [
    "import matplotlib.pyplot as plt\n",
    "\n",
    "# Open and read the file into a list\n",
    "with open(\"random_integers.txt\", \"r\") as file:\n",
    "    data = file.readlines()  \n",
    "\n",
    "# Convert the list of strings to a list of integers\n",
    "data = [int(value.strip()) for value in data]\n",
    "\n",
    "# Create a line plot of the data\n",
    "plt.plot(data)  # Create a line plot\n",
    "plt.title(\"Line Plot of Random Integers\")  # Add a title\n",
    "plt.xlabel(\"Index\")  # Label for the x-axis\n",
    "plt.ylabel(\"Value\")  # Label for the y-axis\n",
    "plt.show()  # Show the plot"
   ]
  },
  {
   "cell_type": "code",
   "execution_count": null,
   "id": "adb6aa11",
   "metadata": {},
   "outputs": [],
   "source": []
  },
  {
   "cell_type": "code",
   "execution_count": null,
   "id": "6745da79",
   "metadata": {},
   "outputs": [],
   "source": []
  },
  {
   "cell_type": "code",
   "execution_count": null,
   "id": "21140445",
   "metadata": {},
   "outputs": [],
   "source": []
  },
  {
   "cell_type": "code",
   "execution_count": null,
   "id": "3d546600",
   "metadata": {},
   "outputs": [],
   "source": []
  }
 ],
 "metadata": {
  "kernelspec": {
   "display_name": "Python 3 (ipykernel)",
   "language": "python",
   "name": "python3"
  },
  "language_info": {
   "codemirror_mode": {
    "name": "ipython",
    "version": 3
   },
   "file_extension": ".py",
   "mimetype": "text/x-python",
   "name": "python",
   "nbconvert_exporter": "python",
   "pygments_lexer": "ipython3",
   "version": "3.12.4"
  }
 },
 "nbformat": 4,
 "nbformat_minor": 5
}
